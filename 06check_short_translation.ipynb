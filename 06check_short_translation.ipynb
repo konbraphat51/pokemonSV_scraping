{
 "cells": [
  {
   "attachments": {},
   "cell_type": "markdown",
   "metadata": {},
   "source": [
    "pokemon, moves, characの翻訳不足を取得"
   ]
  },
  {
   "attachments": {},
   "cell_type": "markdown",
   "metadata": {},
   "source": [
    "### （共通）pokemon.jsonを取得"
   ]
  },
  {
   "cell_type": "code",
   "execution_count": 1,
   "metadata": {},
   "outputs": [],
   "source": [
    "import json\n",
    "\n",
    "f = open(\"data/pokemon.json\", \"r\")\n",
    "data = f.read()\n",
    "f.close()\n",
    "\n",
    "pokemons = json.loads(data)"
   ]
  },
  {
   "attachments": {},
   "cell_type": "markdown",
   "metadata": {},
   "source": [
    "### ポケモン名を取得"
   ]
  },
  {
   "cell_type": "code",
   "execution_count": 2,
   "metadata": {},
   "outputs": [],
   "source": [
    "###翻訳データを取得\n",
    "\n",
    "#en2jp\n",
    "f = open(\"data/pokemon-en2jp.json\", \"r\")\n",
    "data = f.read()\n",
    "f.close()\n",
    "\n",
    "en2jp = json.loads(data)\n",
    "\n",
    "#jp2en\n",
    "f = open(\"data/pokemon-jp2en.json\", \"r\")\n",
    "data = f.read()\n",
    "f.close()\n",
    "\n",
    "jp2en = json.loads(data)"
   ]
  },
  {
   "cell_type": "code",
   "execution_count": 3,
   "metadata": {},
   "outputs": [],
   "source": [
    "#不足を検知し、手動修正\n",
    "\n",
    "for name in pokemons:\n",
    "    if name in jp2en:\n",
    "        #修正不要\n",
    "        continue\n",
    "\n",
    "    #jp2enに名前なし\n",
    "    #手動修正が必要\n",
    "    while(True):\n",
    "        print(name+\"の英語表記：\")\n",
    "        enName = input()\n",
    "\n",
    "        #入力があるまで繰り返し\n",
    "        #Jupyterのバグでprintが表示されない場合があるので、\n",
    "        #その場合はEnter押してもう一回printできるようにするため\n",
    "        if enName != \"\":\n",
    "            break\n",
    "            \n",
    "    #変換辞書に追加\n",
    "    jp2en[name] = enName\n",
    "    en2jp[enName] = name"
   ]
  },
  {
   "cell_type": "code",
   "execution_count": 4,
   "metadata": {},
   "outputs": [],
   "source": [
    "#保存\n",
    "\n",
    "tf = open(\"data/pokemon-jp2en.json\", \"w\")\n",
    "json.dump(jp2en, tf, ensure_ascii=False)\n",
    "tf.close()\n",
    "\n",
    "tf = open(\"data/pokemon-en2jp.json\", \"w\")\n",
    "json.dump(en2jp, tf, ensure_ascii=False)\n",
    "tf.close()"
   ]
  },
  {
   "attachments": {},
   "cell_type": "markdown",
   "metadata": {},
   "source": [
    "### 技"
   ]
  },
  {
   "cell_type": "code",
   "execution_count": 5,
   "metadata": {},
   "outputs": [],
   "source": [
    "###翻訳データを取得\n",
    "\n",
    "#en2jp\n",
    "f = open(\"data/moves-en2jp.json\", \"r\")\n",
    "data = f.read()\n",
    "f.close()\n",
    "\n",
    "en2jp = json.loads(data)\n",
    "\n",
    "#jp2en\n",
    "f = open(\"data/moves-jp2en.json\", \"r\")\n",
    "data = f.read()\n",
    "f.close()\n",
    "\n",
    "jp2en = json.loads(data)"
   ]
  },
  {
   "cell_type": "code",
   "execution_count": 6,
   "metadata": {},
   "outputs": [],
   "source": [
    "#不足を検知し、手動修正\n",
    "\n",
    "for pokemonName in pokemons:\n",
    "    for name in pokemons[pokemonName][\"rememberedMoves\"]:\n",
    "        if name in jp2en:\n",
    "            #修正不要\n",
    "            continue\n",
    "\n",
    "        #jp2enに名前なし\n",
    "        #手動修正が必要\n",
    "        while(True):\n",
    "            print(name+\"の英語表記：\")\n",
    "            enName = input()\n",
    "\n",
    "            #入力があるまで繰り返し\n",
    "            #Jupyterのバグでprintが表示されない場合があるので、\n",
    "            #その場合はEnter押してもう一回printできるようにするため\n",
    "            if enName != \"\":\n",
    "                break\n",
    "                \n",
    "        #変換辞書に追加\n",
    "        jp2en[name] = enName\n",
    "        en2jp[enName] = name"
   ]
  },
  {
   "cell_type": "code",
   "execution_count": 7,
   "metadata": {},
   "outputs": [],
   "source": [
    "#保存\n",
    "\n",
    "import json\n",
    "\n",
    "tf = open(\"data/moves-jp2en.json\", \"w\")\n",
    "json.dump(jp2en, tf, ensure_ascii=False)\n",
    "tf.close()\n",
    "\n",
    "tf = open(\"data/moves-en2jp.json\", \"w\")\n",
    "json.dump(en2jp, tf, ensure_ascii=False)\n",
    "tf.close()"
   ]
  },
  {
   "attachments": {},
   "cell_type": "markdown",
   "metadata": {},
   "source": [
    "### 特性"
   ]
  },
  {
   "cell_type": "code",
   "execution_count": 8,
   "metadata": {},
   "outputs": [],
   "source": [
    "###翻訳データを取得\n",
    "\n",
    "#en2jp\n",
    "f = open(\"data/charac-en2jp.json\", \"r\")\n",
    "data = f.read()\n",
    "f.close()\n",
    "\n",
    "data = data.replace(\"\\\\\", \"\")\n",
    "\n",
    "en2jp = json.loads(data)\n",
    "\n",
    "#jp2en\n",
    "f = open(\"data/charac-jp2en.json\", \"r\")\n",
    "data = f.read()\n",
    "f.close()\n",
    "\n",
    "jp2en = json.loads(data)"
   ]
  },
  {
   "cell_type": "code",
   "execution_count": 9,
   "metadata": {},
   "outputs": [],
   "source": [
    "#不足を検知し、手動修正\n",
    "\n",
    "for pokemonName in pokemons:\n",
    "    for name in pokemons[pokemonName][\"characteristics\"]:\n",
    "        if name in jp2en:\n",
    "            #修正不要\n",
    "            continue\n",
    "\n",
    "        #jp2enに名前なし\n",
    "        #手動修正が必要\n",
    "        while(True):\n",
    "            print(name+\"の英語表記：\")\n",
    "            enName = input()\n",
    "\n",
    "            #入力があるまで繰り返し\n",
    "            #Jupyterのバグでprintが表示されない場合があるので、\n",
    "            #その場合はEnter押してもう一回printできるようにするため\n",
    "            if enName != \"\":\n",
    "                break\n",
    "                \n",
    "        #変換辞書に追加\n",
    "        jp2en[name] = enName\n",
    "        en2jp[enName] = name"
   ]
  },
  {
   "cell_type": "code",
   "execution_count": 10,
   "metadata": {},
   "outputs": [],
   "source": [
    "#保存\n",
    "\n",
    "tf = open(\"data/charac-jp2en.json\", \"w\")\n",
    "json.dump(jp2en, tf, ensure_ascii=False)\n",
    "tf.close()\n",
    "\n",
    "tf = open(\"data/charac-en2jp.json\", \"w\")\n",
    "json.dump(en2jp, tf, ensure_ascii=False)\n",
    "tf.close()"
   ]
  }
 ],
 "metadata": {
  "kernelspec": {
   "display_name": "base",
   "language": "python",
   "name": "python3"
  },
  "language_info": {
   "codemirror_mode": {
    "name": "ipython",
    "version": 3
   },
   "file_extension": ".py",
   "mimetype": "text/x-python",
   "name": "python",
   "nbconvert_exporter": "python",
   "pygments_lexer": "ipython3",
   "version": "3.9.15"
  },
  "orig_nbformat": 4,
  "vscode": {
   "interpreter": {
    "hash": "7ccdf6fa2fe9851812a686c56b7994b1ea39ca8a45af3f74f45e3d9b9ebb2838"
   }
  }
 },
 "nbformat": 4,
 "nbformat_minor": 2
}
