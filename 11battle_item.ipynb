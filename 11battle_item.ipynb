{
 "cells": [
  {
   "cell_type": "code",
   "execution_count": 1,
   "metadata": {},
   "outputs": [],
   "source": [
    "from bs4 import BeautifulSoup\n",
    "from selenium import webdriver\n",
    "import chromedriver_binary"
   ]
  },
  {
   "cell_type": "code",
   "execution_count": 30,
   "metadata": {},
   "outputs": [],
   "source": [
    "chrome_options = webdriver.ChromeOptions()\n",
    "driver = webdriver.Chrome(options=chrome_options)"
   ]
  },
  {
   "attachments": {},
   "cell_type": "markdown",
   "metadata": {},
   "source": [
    "# 日本語を取得"
   ]
  },
  {
   "attachments": {},
   "cell_type": "markdown",
   "metadata": {},
   "source": [
    "せんとうアイテム"
   ]
  },
  {
   "cell_type": "code",
   "execution_count": 3,
   "metadata": {},
   "outputs": [],
   "source": [
    "url = \"https://gamewith.jp/pokemon-sv/article/show/375985\"\n",
    "\n",
    "driver.get(url)\n",
    "html = driver.page_source\n",
    "\n",
    "soup = BeautifulSoup(html)"
   ]
  },
  {
   "cell_type": "code",
   "execution_count": 4,
   "metadata": {},
   "outputs": [],
   "source": [
    "tables = soup.find_all(\"table\")\n",
    "\n",
    "items = []\n",
    "\n",
    "for table in tables:\n",
    "    links = table.find_all(\"a\")\n",
    "    for link in links:\n",
    "        item = link.text\n",
    "        items.append(item)"
   ]
  },
  {
   "attachments": {},
   "cell_type": "markdown",
   "metadata": {},
   "source": [
    "きのみ"
   ]
  },
  {
   "cell_type": "code",
   "execution_count": 5,
   "metadata": {},
   "outputs": [],
   "source": [
    "url = \"https://gamewith.jp/pokemon-sv/article/show/376252\"\n",
    "\n",
    "driver.get(url)\n",
    "html = driver.page_source\n",
    "\n",
    "soup = BeautifulSoup(html)"
   ]
  },
  {
   "cell_type": "code",
   "execution_count": 6,
   "metadata": {},
   "outputs": [],
   "source": [
    "tables = soup.find_all(\"table\")\n",
    "\n",
    "for table in tables:\n",
    "    links = table.find_all(\"a\")\n",
    "    for link in links:\n",
    "        item = link.text\n",
    "        items.append(item)"
   ]
  },
  {
   "attachments": {},
   "cell_type": "markdown",
   "metadata": {},
   "source": [
    "日本語名一時保存\n",
    "ここで不要物を除去"
   ]
  },
  {
   "cell_type": "code",
   "execution_count": 7,
   "metadata": {},
   "outputs": [],
   "source": [
    "tf = open(\"data/item_jp.txt\", \"w\", encoding=\"utf-8\")\n",
    "for item in items:\n",
    "    tf.write(item + \"\\n\")\n",
    "tf.close()"
   ]
  },
  {
   "attachments": {},
   "cell_type": "markdown",
   "metadata": {},
   "source": [
    "# 翻訳を取得"
   ]
  },
  {
   "cell_type": "code",
   "execution_count": 41,
   "metadata": {},
   "outputs": [],
   "source": [
    "f = open(\"data/item_jp.txt\", \"r\", encoding=\"utf-8\")\n",
    "items_jp = {}\n",
    "for item in f:\n",
    "    item = item.split(\"\\n\")[0]\n",
    "    items_jp[item] = None\n",
    "f.close()"
   ]
  },
  {
   "attachments": {},
   "cell_type": "markdown",
   "metadata": {},
   "source": [
    "戦闘アイテム"
   ]
  },
  {
   "cell_type": "code",
   "execution_count": 42,
   "metadata": {},
   "outputs": [],
   "source": [
    "url = \"https://wiki.xn--rckteqa2e.com/wiki/%E3%82%A2%E3%82%A4%E3%83%86%E3%83%A0%E3%81%AE%E5%A4%96%E5%9B%BD%E8%AA%9E%E5%90%8D%E4%B8%80%E8%A6%A7\"\n",
    "\n",
    "driver.get(url)\n",
    "html = driver.page_source\n",
    "\n",
    "soup = BeautifulSoup(html)"
   ]
  },
  {
   "cell_type": "code",
   "execution_count": 43,
   "metadata": {},
   "outputs": [],
   "source": [
    "tables = soup.find_all(\"table\")\n",
    "\n",
    "for table in tables:\n",
    "    rows = table.find_all(\"tr\")\n",
    "    for row in rows:\n",
    "        columns = row.find_all(\"td\")\n",
    "        if columns == []:\n",
    "            continue\n",
    "        if columns[0].text in items_jp:\n",
    "            items_jp[columns[0].text] = columns[1].text\n",
    "        "
   ]
  },
  {
   "attachments": {},
   "cell_type": "markdown",
   "metadata": {},
   "source": [
    "きのみ"
   ]
  },
  {
   "cell_type": "code",
   "execution_count": 44,
   "metadata": {},
   "outputs": [],
   "source": [
    "url = \"https://wiki.xn--rckteqa2e.com/wiki/%E3%81%8D%E3%81%AE%E3%81%BF%E3%81%AE%E5%A4%96%E5%9B%BD%E8%AA%9E%E5%90%8D%E4%B8%80%E8%A6%A7\"\n",
    "\n",
    "driver.get(url)\n",
    "html = driver.page_source\n",
    "\n",
    "soup = BeautifulSoup(html)"
   ]
  },
  {
   "cell_type": "code",
   "execution_count": 45,
   "metadata": {},
   "outputs": [],
   "source": [
    "tables = soup.find_all(\"table\")\n",
    "\n",
    "for table in tables:\n",
    "    rows = table.find_all(\"tr\")\n",
    "    for row in rows:\n",
    "        columns = row.find_all(\"td\")\n",
    "        if columns == []:\n",
    "            continue\n",
    "        if columns[0].text in items_jp:\n",
    "            items_jp[columns[0].text] = columns[1].text\n",
    "        "
   ]
  },
  {
   "attachments": {},
   "cell_type": "markdown",
   "metadata": {},
   "source": [
    "整理"
   ]
  },
  {
   "cell_type": "code",
   "execution_count": 46,
   "metadata": {},
   "outputs": [],
   "source": [
    "items = {}\n",
    "untranslated = []\n",
    "\n",
    "for jpName in items_jp:\n",
    "    enName = items_jp[jpName]\n",
    "    \n",
    "    #untranslated\n",
    "    if enName == None:\n",
    "        untranslated.append(jpName)\n",
    "        continue\n",
    "\n",
    "    #translated\n",
    "    id = enName.replace(\" \", \"\")\n",
    "    items[id] = {}\n",
    "    items[id][\"JpName\"] = jpName\n",
    "    items[id][\"EnName\"] = enName"
   ]
  },
  {
   "cell_type": "code",
   "execution_count": 47,
   "metadata": {},
   "outputs": [],
   "source": [
    "for jpName in untranslated:\n",
    "    driver.get(\"https://www.google.com/search?q=ポケモン+英語名+%s\"%jpName)\n",
    "\n",
    "    enName = input()\n",
    "\n",
    "    id = enName.replace(\" \", \"\")\n",
    "    items[id] = {}\n",
    "    items[id][\"JpName\"] = jpName\n",
    "    items[id][\"EnName\"] = enName"
   ]
  },
  {
   "attachments": {},
   "cell_type": "markdown",
   "metadata": {},
   "source": [
    "保存"
   ]
  },
  {
   "cell_type": "code",
   "execution_count": 51,
   "metadata": {},
   "outputs": [],
   "source": [
    "import json\n",
    "\n",
    "f = open(\"translation/item.json\", \"w\", encoding=\"utf-8\")\n",
    "json.dump(items, f, ensure_ascii=False)\n",
    "f.close()"
   ]
  }
 ],
 "metadata": {
  "kernelspec": {
   "display_name": "base",
   "language": "python",
   "name": "python3"
  },
  "language_info": {
   "codemirror_mode": {
    "name": "ipython",
    "version": 3
   },
   "file_extension": ".py",
   "mimetype": "text/x-python",
   "name": "python",
   "nbconvert_exporter": "python",
   "pygments_lexer": "ipython3",
   "version": "3.9.15"
  },
  "orig_nbformat": 4,
  "vscode": {
   "interpreter": {
    "hash": "7ccdf6fa2fe9851812a686c56b7994b1ea39ca8a45af3f74f45e3d9b9ebb2838"
   }
  }
 },
 "nbformat": 4,
 "nbformat_minor": 2
}
