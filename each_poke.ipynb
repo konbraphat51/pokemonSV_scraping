{
 "cells": [
  {
   "attachments": {},
   "cell_type": "markdown",
   "metadata": {},
   "source": [
    "# GameWithの個別データを取得"
   ]
  },
  {
   "cell_type": "code",
   "execution_count": 17,
   "metadata": {},
   "outputs": [],
   "source": [
    "from bs4 import BeautifulSoup\n",
    "from selenium import webdriver\n",
    "import chromedriver_binary\n",
    "\n",
    "import re"
   ]
  },
  {
   "cell_type": "code",
   "execution_count": 18,
   "metadata": {},
   "outputs": [],
   "source": [
    "driver = webdriver.Chrome()\n",
    "\n",
    "url = \"https://gamewith.jp/pokemon-sv/article/show/377368\"\n",
    "\n",
    "driver.get(url)\n",
    "html = driver.page_source\n",
    "\n",
    "soup = BeautifulSoup(html)"
   ]
  },
  {
   "attachments": {},
   "cell_type": "markdown",
   "metadata": {},
   "source": [
    "### 日本語名"
   ]
  },
  {
   "cell_type": "code",
   "execution_count": 19,
   "metadata": {},
   "outputs": [
    {
     "name": "stdout",
     "output_type": "stream",
     "text": [
      "リザードン\n"
     ]
    }
   ],
   "source": [
    "title = soup.find(\"h3\").text\n",
    "pattern = '(.*)の色違いと基本情報'\n",
    "\n",
    "result = re.match(pattern, title).group(1)\n",
    "print(result)"
   ]
  },
  {
   "attachments": {},
   "cell_type": "markdown",
   "metadata": {},
   "source": [
    "### 種族値"
   ]
  },
  {
   "cell_type": "code",
   "execution_count": 20,
   "metadata": {},
   "outputs": [
    {
     "name": "stdout",
     "output_type": "stream",
     "text": [
      "{'H': '78', 'A': '84', 'B': '78', 'C': '109', 'D': '85', 'S': '100'}\n"
     ]
    }
   ],
   "source": [
    "table = soup.find(\"div\", class_=\"pokesv_bar_table\")\n",
    "bars = table.find_all(\"span\", class_=\"bar1\")\n",
    "\n",
    "base = {\"H\":bars[0].text,\n",
    "        \"A\":bars[1].text,\n",
    "        \"B\":bars[2].text,\n",
    "        \"C\":bars[3].text,\n",
    "        \"D\":bars[4].text,\n",
    "        \"S\":bars[5].text}\n",
    "print(base)"
   ]
  },
  {
   "attachments": {},
   "cell_type": "markdown",
   "metadata": {},
   "source": [
    "### 画像リンク"
   ]
  },
  {
   "cell_type": "code",
   "execution_count": 21,
   "metadata": {},
   "outputs": [
    {
     "name": "stdout",
     "output_type": "stream",
     "text": [
      "https://img.gamewith.jp/article_tools/pokemon-sv/gacha/006.png\n"
     ]
    }
   ],
   "source": [
    "image_div = soup.find(\"div\", class_=\"js-pokemon-deff-color-switch\")\n",
    "image_url = image_div.find(\"img\").get(\"src\")\n",
    "print(image_url)"
   ]
  },
  {
   "attachments": {},
   "cell_type": "markdown",
   "metadata": {},
   "source": [
    "### 画像データ"
   ]
  },
  {
   "cell_type": "code",
   "execution_count": 22,
   "metadata": {},
   "outputs": [],
   "source": [
    "import requests\n",
    "\n",
    "response = requests.get(image_url)\n",
    "image = response.content"
   ]
  },
  {
   "attachments": {},
   "cell_type": "markdown",
   "metadata": {},
   "source": [
    "### タイプ"
   ]
  },
  {
   "cell_type": "code",
   "execution_count": 23,
   "metadata": {},
   "outputs": [
    {
     "name": "stdout",
     "output_type": "stream",
     "text": [
      "{'ほのお', 'ひこう'}\n"
     ]
    }
   ],
   "source": [
    "type_span = soup.find(\"span\", class_ = \"inline\")\n",
    "imgs = type_span.find_all(\"img\")\n",
    "types = set()\n",
    "for img in imgs:\n",
    "    types.add(img.get(\"alt\"))\n",
    "\n",
    "print(types)"
   ]
  },
  {
   "attachments": {},
   "cell_type": "markdown",
   "metadata": {},
   "source": [
    "### 覚える技"
   ]
  },
  {
   "cell_type": "code",
   "execution_count": 24,
   "metadata": {},
   "outputs": [
    {
     "name": "stdout",
     "output_type": "stream",
     "text": [
      "['エアスラッシュ', 'ひっかく', 'なきごえ', 'ひのこ', 'えんまく', 'ねっぷう', 'ドラゴンクロー', 'りゅうのいぶき', 'ほのおのキバ', 'きりさく', 'かえんほうしゃ', 'こわいかお', 'ほのおのうず', 'れんごく', 'フレアドライブ', 'とっしん', 'こわいかお', 'まもる', 'ほのおのキバ', 'アクロバット', 'ほのおのうず', 'からげんき', 'つばめがえし', 'じならし', 'スピードスター', 'がんせきふうじ', 'ニトロチャージ', 'エアカッター', 'なげつける', 'ドラゴンテール', 'こらえる', 'にほんばれ', 'すなあらし', 'あなをほる', 'かわらわり', 'シャドークロー', 'エアスラッシュ', 'のしかかり', 'ほのおのパンチ', 'かみなりパンチ', 'ねごと', 'ドラゴンクロー', 'ねむる', 'いわなだれ', 'つるぎのまい', 'そらをとぶ', 'りゅうのまい', 'みがわり', 'おにび', 'かみくだく', 'りゅうのはどう', 'ねっぷう', 'かえんほうしゃ', 'てだすけ', 'だいもんじ', 'ほのおのちかい', 'じしん', 'ギガインパクト', 'ブラストバーン', 'げきりん', 'オーバーヒート', 'きあいだま', 'ぼうふう', 'はかいこうせん', 'フレアドライブ', 'ソーラービーム', 'テラバースト', 'かみつく', 'カウンター', 'はらだいこ', 'アイアンテール', 'メタルクロー', 'げんしのちから', 'ドラゴンダイブ', 'ドラゴンテール']\n"
     ]
    }
   ],
   "source": [
    "rememberedMoves = []\n",
    "skill_list = soup.find(\"ol\", id=\"SkillList\")\n",
    "moves = skill_list.find_all(\"li\", class_=\"w-pksv-skill-list-element\")\n",
    "for move in moves:\n",
    "    move_name = move.find(\"div\", class_=\"_name\").find(\"a\").text\n",
    "    rememberedMoves.append(move_name)\n",
    "\n",
    "print(rememberedMoves)\n"
   ]
  },
  {
   "attachments": {},
   "cell_type": "markdown",
   "metadata": {},
   "source": [
    "### 特性"
   ]
  },
  {
   "cell_type": "code",
   "execution_count": 25,
   "metadata": {},
   "outputs": [
    {
     "name": "stdout",
     "output_type": "stream",
     "text": [
      "['もうか', 'サンパワー']\n"
     ]
    }
   ],
   "source": [
    "characteristics = []\n",
    "\n",
    "toku_list = soup.find(\"ol\", class_=\"pksv_toku_list\").find_all(\"li\")\n",
    "\n",
    "for toku in toku_list:\n",
    "    charac_name = toku.find(\"div\", class_=\"_name\").text\n",
    "    characteristics.append(charac_name)\n",
    "\n",
    "print(characteristics)\n"
   ]
  }
 ],
 "metadata": {
  "kernelspec": {
   "display_name": "base",
   "language": "python",
   "name": "python3"
  },
  "language_info": {
   "codemirror_mode": {
    "name": "ipython",
    "version": 3
   },
   "file_extension": ".py",
   "mimetype": "text/x-python",
   "name": "python",
   "nbconvert_exporter": "python",
   "pygments_lexer": "ipython3",
   "version": "3.9.13 (main, Aug 25 2022, 23:51:50) [MSC v.1916 64 bit (AMD64)]"
  },
  "orig_nbformat": 4,
  "vscode": {
   "interpreter": {
    "hash": "7ccdf6fa2fe9851812a686c56b7994b1ea39ca8a45af3f74f45e3d9b9ebb2838"
   }
  }
 },
 "nbformat": 4,
 "nbformat_minor": 2
}
