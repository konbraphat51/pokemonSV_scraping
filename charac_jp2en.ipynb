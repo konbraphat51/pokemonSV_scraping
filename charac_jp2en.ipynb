{
 "cells": [
  {
   "cell_type": "code",
   "execution_count": 13,
   "metadata": {},
   "outputs": [],
   "source": [
    "from bs4 import BeautifulSoup\n",
    "from selenium import webdriver\n",
    "import chromedriver_binary"
   ]
  },
  {
   "attachments": {},
   "cell_type": "markdown",
   "metadata": {},
   "source": [
    "## Wikiから変換テーブルを取得"
   ]
  },
  {
   "cell_type": "code",
   "execution_count": 14,
   "metadata": {},
   "outputs": [],
   "source": [
    "driver = webdriver.Chrome()\n",
    "\n",
    "url = \"https://wiki.xn--rckteqa2e.com/wiki/%E3%81%A8%E3%81%8F%E3%81%9B%E3%81%84%E3%81%AE%E5%A4%96%E5%9B%BD%E8%AA%9E%E5%90%8D%E4%B8%80%E8%A6%A7\"\n",
    "\n",
    "driver.get(url)\n",
    "html = driver.page_source\n",
    "\n",
    "soup = BeautifulSoup(html)"
   ]
  },
  {
   "cell_type": "code",
   "execution_count": 15,
   "metadata": {},
   "outputs": [],
   "source": [
    "jp2en = {}\n",
    "en2jp = {}"
   ]
  },
  {
   "cell_type": "code",
   "execution_count": 16,
   "metadata": {},
   "outputs": [],
   "source": [
    "table = soup.find(\"table\", class_=\"bluetable\")\n",
    "\n",
    "for row in table.find_all(\"tr\")[1:]:\n",
    "    columns = row.find_all(\"td\")\n",
    "\n",
    "    jpName = columns[0].text[:-1]\n",
    "    enName = columns[1].text[:-1]\n",
    "\n",
    "    jp2en[jpName] = enName\n",
    "    en2jp[enName] = jpName"
   ]
  },
  {
   "attachments": {},
   "cell_type": "markdown",
   "metadata": {},
   "source": [
    "## \"every_poke.ipynb\"から得られたデータとの整合性を確認"
   ]
  },
  {
   "cell_type": "code",
   "execution_count": null,
   "metadata": {},
   "outputs": [],
   "source": [
    "import json"
   ]
  },
  {
   "cell_type": "code",
   "execution_count": null,
   "metadata": {},
   "outputs": [],
   "source": [
    "#pokemonデータを取得\n",
    "\n",
    "poke_data_path = \"data/pokemon.json\"\n",
    "\n",
    "f = open(\"data/pokemon.json\", \"r\")\n",
    "data = f.read()\n",
    "f.close()\n",
    "\n",
    "pokemons = json.loads(data)"
   ]
  },
  {
   "attachments": {},
   "cell_type": "markdown",
   "metadata": {},
   "source": [
    "## 保存"
   ]
  },
  {
   "cell_type": "code",
   "execution_count": 17,
   "metadata": {},
   "outputs": [],
   "source": [
    "tf = open(\"data/charac-jp2en.json\", \"w\")\n",
    "json.dump(jp2en, tf, ensure_ascii=False)\n",
    "tf.close()"
   ]
  },
  {
   "cell_type": "code",
   "execution_count": 18,
   "metadata": {},
   "outputs": [],
   "source": [
    "tf = open(\"data/charac-en2jp.json\", \"w\")\n",
    "json.dump(en2jp, tf, ensure_ascii=False)\n",
    "tf.close()"
   ]
  }
 ],
 "metadata": {
  "kernelspec": {
   "display_name": "Python 3",
   "language": "python",
   "name": "python3"
  },
  "language_info": {
   "codemirror_mode": {
    "name": "ipython",
    "version": 3
   },
   "file_extension": ".py",
   "mimetype": "text/x-python",
   "name": "python",
   "nbconvert_exporter": "python",
   "pygments_lexer": "ipython3",
   "version": "3.11.0 (main, Oct 24 2022, 18:26:48) [MSC v.1933 64 bit (AMD64)]"
  },
  "orig_nbformat": 4,
  "vscode": {
   "interpreter": {
    "hash": "f18876ba008b8f03c8db473942efc120a13a06fe3a8b9090651dfef4dd2a9267"
   }
  }
 },
 "nbformat": 4,
 "nbformat_minor": 2
}
