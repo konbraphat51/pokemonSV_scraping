{
 "cells": [
  {
   "cell_type": "code",
   "execution_count": 1,
   "metadata": {},
   "outputs": [],
   "source": [
    "from bs4 import BeautifulSoup\n",
    "from selenium import webdriver\n",
    "import chromedriver_binary"
   ]
  },
  {
   "attachments": {},
   "cell_type": "markdown",
   "metadata": {},
   "source": [
    "## Wikiから変換テーブルを取得"
   ]
  },
  {
   "cell_type": "code",
   "execution_count": 2,
   "metadata": {},
   "outputs": [],
   "source": [
    "driver = webdriver.Chrome()\n",
    "\n",
    "url = \"https://wiki.xn--rckteqa2e.com/wiki/%E3%81%A8%E3%81%8F%E3%81%9B%E3%81%84%E3%81%AE%E5%A4%96%E5%9B%BD%E8%AA%9E%E5%90%8D%E4%B8%80%E8%A6%A7\"\n",
    "\n",
    "driver.get(url)\n",
    "html = driver.page_source\n",
    "\n",
    "soup = BeautifulSoup(html)"
   ]
  },
  {
   "cell_type": "code",
   "execution_count": 3,
   "metadata": {},
   "outputs": [],
   "source": [
    "jp2en = {}\n",
    "en2jp = {}"
   ]
  },
  {
   "cell_type": "code",
   "execution_count": 4,
   "metadata": {},
   "outputs": [],
   "source": [
    "tables = soup.find_all(\"table\", class_=\"bluetable\")\n",
    "\n",
    "for table in tables:\n",
    "    for row in table.find_all(\"tr\")[1:]:\n",
    "        columns = row.find_all(\"td\")\n",
    "\n",
    "        jpName = columns[0].text\n",
    "        enName = columns[1].text\n",
    "\n",
    "        #末尾が改行文字になっているものがある\n",
    "        if jpName[-1] == \"\\n\":\n",
    "            jpName = jpName[:-1]\n",
    "\n",
    "        if enName[-1] == \"\\n\":\n",
    "            enName = enName[:-1]    \n",
    "\n",
    "        jp2en[jpName] = enName\n",
    "        en2jp[enName] = jpName"
   ]
  },
  {
   "attachments": {},
   "cell_type": "markdown",
   "metadata": {},
   "source": [
    "## \"every_poke.ipynb\"から得られたデータとの整合性を確認"
   ]
  },
  {
   "cell_type": "code",
   "execution_count": 5,
   "metadata": {},
   "outputs": [],
   "source": [
    "import json\n",
    "\n",
    "#pokemonデータを取得\n",
    "\n",
    "poke_data_path = \"data/pokemon.json\"\n",
    "\n",
    "f = open(\"data/pokemon.json\", \"r\")\n",
    "data = f.read()\n",
    "f.close()\n",
    "\n",
    "pokemons = json.loads(data)"
   ]
  },
  {
   "cell_type": "code",
   "execution_count": 6,
   "metadata": {},
   "outputs": [
    {
     "name": "stdout",
     "output_type": "stream",
     "text": [
      "はんすうの英語表記：\n",
      "はんすうの英語表記：\n",
      "きれあじの英語表記：\n",
      "きれあじの英語表記：\n",
      "とれないにおいの英語表記：\n",
      "びんじょうの英語表記：\n",
      "テイルアーマーの英語表記：\n",
      "マイティチェンジの英語表記：\n",
      "こぼれタネの英語表記：\n",
      "こぼれタネの英語表記：\n",
      "でんきにかえるの英語表記：\n",
      "でんきにかえるの英語表記：\n",
      "どしょくの英語表記：\n",
      "ねつこうかんの英語表記：\n",
      "しれいとうの英語表記：\n",
      "ふうりょくでんきの英語表記：\n",
      "ふうりょくでんきの英語表記：\n",
      "いわはこびの英語表記：\n",
      "きょうえんの英語表記：\n",
      "きょうえんの英語表記：\n",
      "いかりのこうらの英語表記：\n",
      "きよめのしおの英語表記：\n",
      "どくげしょうの英語表記：\n",
      "こんがりボディの英語表記：\n",
      "ばんけんの英語表記：\n",
      "かぜのりの英語表記：\n",
      "かぜのりの英語表記：\n",
      "おうごんのからだの英語表記：\n",
      "こだいかっせいの英語表記：\n",
      "クォークチャージの英語表記：\n",
      "わざわいのうつわの英語表記：\n",
      "わざわいのつるぎの英語表記：\n",
      "わざわいのつるぎの英語表記：\n",
      "わざわいのつるぎの英語表記：\n",
      "わざわいのおふだの英語表記：\n",
      "わざわいのおふだの英語表記：\n",
      "わざわいのたまの英語表記：\n",
      "ひひいろのこどうの英語表記：\n",
      "ハドロンエンジンの英語表記：\n",
      "きんしのちからの英語表記：\n",
      "そうだいしょうの英語表記：\n",
      "そうだいしょうの英語表記：\n"
     ]
    }
   ],
   "source": [
    "for pokemonName in pokemons:\n",
    "    for name in pokemons[pokemonName][\"characteristics\"]:\n",
    "        if name in jp2en:\n",
    "            #修正不要\n",
    "            continue\n",
    "\n",
    "        #jp2enに名前なし\n",
    "        #手動修正が必要\n",
    "        while(True):\n",
    "            print(name+\"の英語表記：\")\n",
    "            enName = input()\n",
    "\n",
    "            #入力があるまで繰り返し\n",
    "            #Jupyterのバグでprintが表示されない場合があるので、\n",
    "            #その場合はEnter押してもう一回printできるようにするため\n",
    "            if enName != \"\":\n",
    "                break\n",
    "                \n",
    "        #変換辞書に追加\n",
    "        jp2en[name] = enName\n",
    "        en2jp[enName] = name"
   ]
  },
  {
   "attachments": {},
   "cell_type": "markdown",
   "metadata": {},
   "source": [
    "## 保存"
   ]
  },
  {
   "cell_type": "code",
   "execution_count": 7,
   "metadata": {},
   "outputs": [],
   "source": [
    "tf = open(\"data/charac-jp2en.json\", \"w\")\n",
    "json.dump(jp2en, tf, ensure_ascii=False)\n",
    "tf.close()"
   ]
  },
  {
   "cell_type": "code",
   "execution_count": 8,
   "metadata": {},
   "outputs": [],
   "source": [
    "tf = open(\"data/charac-en2jp.json\", \"w\")\n",
    "json.dump(en2jp, tf, ensure_ascii=False)\n",
    "tf.close()"
   ]
  }
 ],
 "metadata": {
  "kernelspec": {
   "display_name": "base",
   "language": "python",
   "name": "python3"
  },
  "language_info": {
   "codemirror_mode": {
    "name": "ipython",
    "version": 3
   },
   "file_extension": ".py",
   "mimetype": "text/x-python",
   "name": "python",
   "nbconvert_exporter": "python",
   "pygments_lexer": "ipython3",
   "version": "3.9.15"
  },
  "orig_nbformat": 4,
  "vscode": {
   "interpreter": {
    "hash": "7ccdf6fa2fe9851812a686c56b7994b1ea39ca8a45af3f74f45e3d9b9ebb2838"
   }
  }
 },
 "nbformat": 4,
 "nbformat_minor": 2
}
