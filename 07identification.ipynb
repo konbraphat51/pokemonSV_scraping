{
 "cells": [
  {
   "attachments": {},
   "cell_type": "markdown",
   "metadata": {},
   "source": [
    "# IDの英語化\n",
    "各データのIDが日本語名となっているところを、英語名の空白抜きにする。\n",
    "各翻訳データのID→日本語名、英語名の辞書も作成する"
   ]
  },
  {
   "attachments": {},
   "cell_type": "markdown",
   "metadata": {},
   "source": [
    "### 各翻訳データのID振り分け"
   ]
  },
  {
   "cell_type": "code",
   "execution_count": 1,
   "metadata": {},
   "outputs": [],
   "source": [
    "#共通関数\n",
    "\n",
    "def getIdentified(jp2en):\n",
    "    identified = {}\n",
    "\n",
    "    for jpName, enName in jp2en.items():\n",
    "        id = enName.replace(\" \", \"\")    #スペース抜き\n",
    "        identified[id] = {}\n",
    "        identified[id][\"JpName\"] = jpName\n",
    "        identified[id][\"EnName\"] = enName\n",
    "    \n",
    "    return identified"
   ]
  },
  {
   "attachments": {},
   "cell_type": "markdown",
   "metadata": {},
   "source": [
    "## ポケモン名"
   ]
  },
  {
   "cell_type": "code",
   "execution_count": 2,
   "metadata": {},
   "outputs": [],
   "source": [
    "import json"
   ]
  },
  {
   "cell_type": "code",
   "execution_count": 3,
   "metadata": {},
   "outputs": [],
   "source": [
    "###翻訳データを取得\n",
    "\n",
    "#jp2en\n",
    "f = open(\"data/pokemon-jp2en.json\", \"r\")\n",
    "data = f.read()\n",
    "f.close()\n",
    "\n",
    "jp2enPokemon = json.loads(data)"
   ]
  },
  {
   "cell_type": "code",
   "execution_count": 4,
   "metadata": {},
   "outputs": [],
   "source": [
    "#実行\n",
    "identified = getIdentified(jp2enPokemon)"
   ]
  },
  {
   "cell_type": "code",
   "execution_count": 5,
   "metadata": {},
   "outputs": [],
   "source": [
    "#保存\n",
    "tf = open(\"translation/pokemon.json\", \"w\", encoding=\"utf-8\")\n",
    "json.dump(identified, tf, ensure_ascii=False)\n",
    "tf.close()"
   ]
  },
  {
   "attachments": {},
   "cell_type": "markdown",
   "metadata": {},
   "source": [
    "## わざ"
   ]
  },
  {
   "cell_type": "code",
   "execution_count": 6,
   "metadata": {},
   "outputs": [],
   "source": [
    "###翻訳データを取得\n",
    "\n",
    "#jp2en\n",
    "f = open(\"data/moves-jp2en.json\", \"r\")\n",
    "data = f.read()\n",
    "f.close()\n",
    "\n",
    "jp2enMoves = json.loads(data)"
   ]
  },
  {
   "cell_type": "code",
   "execution_count": 7,
   "metadata": {},
   "outputs": [],
   "source": [
    "#実行\n",
    "identified = getIdentified(jp2enMoves)"
   ]
  },
  {
   "cell_type": "code",
   "execution_count": 8,
   "metadata": {},
   "outputs": [],
   "source": [
    "#保存\n",
    "tf = open(\"translation/moves.json\", \"w\", encoding=\"utf-8\")\n",
    "json.dump(identified, tf, ensure_ascii=False)\n",
    "tf.close()"
   ]
  },
  {
   "attachments": {},
   "cell_type": "markdown",
   "metadata": {},
   "source": [
    "## 特性"
   ]
  },
  {
   "cell_type": "code",
   "execution_count": 9,
   "metadata": {},
   "outputs": [],
   "source": [
    "###翻訳データを取得\n",
    "\n",
    "#jp2en\n",
    "f = open(\"data/charac-jp2en.json\", \"r\")\n",
    "data = f.read()\n",
    "f.close()\n",
    "\n",
    "jp2enCharac = json.loads(data)"
   ]
  },
  {
   "cell_type": "code",
   "execution_count": 10,
   "metadata": {},
   "outputs": [],
   "source": [
    "#実行\n",
    "identified = getIdentified(jp2enCharac)"
   ]
  },
  {
   "cell_type": "code",
   "execution_count": 11,
   "metadata": {},
   "outputs": [],
   "source": [
    "#保存\n",
    "tf = open(\"translation/charac.json\", \"w\", encoding=\"utf-8\")\n",
    "json.dump(identified, tf, ensure_ascii=False)\n",
    "tf.close()"
   ]
  },
  {
   "attachments": {},
   "cell_type": "markdown",
   "metadata": {},
   "source": [
    "## pokemonデータの編集\n",
    "各日本語をID化する\n",
    "処理後のpokemonデータは：\n",
    "主キー：ポケモンID\n",
    "入れ子の辞書：\n",
    "    JpName日本語名\n",
    "    EnName英語名\n",
    "    H\n",
    "    A\n",
    "    B\n",
    "    C\n",
    "    D\n",
    "    S\n",
    "    imageLink\n",
    "    typeID\n",
    "    rememberedMovesID\n",
    "    characteristicID"
   ]
  },
  {
   "attachments": {},
   "cell_type": "markdown",
   "metadata": {},
   "source": [
    "Type ID：\n",
    "0 Normal\n",
    "1 Fire\n",
    "2 Water\n",
    "3 Electric\n",
    "4 Glass\n",
    "5 Ice\n",
    "6 Fighting\n",
    "7 Poison\n",
    "8 Ground\n",
    "9 Flying\n",
    "10 Psychic\n",
    "11 BUg\n",
    "12 Rock\n",
    "13 Ghost\n",
    "14 Dragon\n",
    "15 Dark\n",
    "16 Steel\n",
    "17 Fairy"
   ]
  },
  {
   "cell_type": "code",
   "execution_count": 12,
   "metadata": {},
   "outputs": [],
   "source": [
    "#データを取得\n",
    "\n",
    "#jp2en\n",
    "f = open(\"data/pokemon.json\", \"r\")\n",
    "data = f.read()\n",
    "f.close()\n",
    "\n",
    "old_pokemon = json.loads(data)"
   ]
  },
  {
   "cell_type": "code",
   "execution_count": 13,
   "metadata": {},
   "outputs": [],
   "source": [
    "#タイプ→ID\n",
    "type2ID = {\n",
    "    \"ノーマル\":0,\n",
    "    \"ほのお\":1,\n",
    "    \"みず\":2,\n",
    "    \"でんき\":3,\n",
    "    \"くさ\":4,\n",
    "    \"こおり\":5,\n",
    "    \"かくとう\":6,\n",
    "    \"どく\":7,\n",
    "    \"じめん\":8,\n",
    "    \"ひこう\":9,\n",
    "    \"エスパー\":10,\n",
    "    \"むし\":11,\n",
    "    \"いわ\":12,\n",
    "    \"ゴースト\":13,\n",
    "    \"ドラゴン\":14,\n",
    "    \"あく\":15,\n",
    "    \"はがね\":16,\n",
    "    \"フェアリー\":17\n",
    "}"
   ]
  },
  {
   "cell_type": "code",
   "execution_count": null,
   "metadata": {},
   "outputs": [],
   "source": [
    "new_pokemon = {}\n",
    "\n",
    "for jpName in old_pokemon:\n",
    "    id = jp2enPokemon[jpName].replace(\" \", \"\")\n",
    "\n",
    "    new_pokemon[id] = {}\n",
    "\n",
    "    new_pokemon[id][\"JpName\"] = jpName\n",
    "    new_pokemon[id][\"EnName\"] = jp2enPokemon[jpName]\n",
    "    \n",
    "    new_pokemon[id][\"H\"] = old_pokemon[jpName][\"H\"]\n",
    "    new_pokemon[id][\"A\"] = old_pokemon[jpName][\"A\"]\n",
    "    new_pokemon[id][\"B\"] = old_pokemon[jpName][\"B\"]\n",
    "    new_pokemon[id][\"C\"] = old_pokemon[jpName][\"C\"]\n",
    "    new_pokemon[id][\"D\"] = old_pokemon[jpName][\"D\"]\n",
    "    new_pokemon[id][\"S\"] = old_pokemon[jpName][\"S\"]\n",
    "\n",
    "    new_pokemon[id][\"imageLink\"] = old_pokemon[jpName][\"imageLink\"]\n",
    "\n",
    "    new_pokemon[id][\"types\"] = []\n",
    "    for jpType in old_pokemon[jpName][\"types\"]:\n",
    "        new_pokemon[id][\"types\"].append(type2ID[jpType])\n",
    "    \n",
    "    new_pokemon[id][\"rememberedMoves\"] = []\n",
    "    for jpMove in old_pokemon[jpName][\"rememberedMoves\"]:\n",
    "        new_pokemon[id][\"rememberedMoves\"].append(jp2enMoves[jpMove].replace(\" \", \"\"))\n",
    "\n",
    "    new_pokemon[id][\"characteristics\"] = []\n",
    "    for jpCharac in old_pokemon[jpName][\"characteristics\"]:\n",
    "        new_pokemon[id][\"characteristics\"].append(jp2enCharac[jpCharac].replace(\" \", \"\"))"
   ]
  },
  {
   "cell_type": "code",
   "execution_count": null,
   "metadata": {},
   "outputs": [],
   "source": [
    "###保存\n",
    "\n",
    "tf = open(\"data/0pokemon.json\", \"w\", encoding=\"utf-8\")\n",
    "json.dump(new_pokemon, tf, ensure_ascii=False)\n",
    "tf.close()"
   ]
  }
 ],
 "metadata": {
  "kernelspec": {
   "display_name": "base",
   "language": "python",
   "name": "python3"
  },
  "language_info": {
   "codemirror_mode": {
    "name": "ipython",
    "version": 3
   },
   "file_extension": ".py",
   "mimetype": "text/x-python",
   "name": "python",
   "nbconvert_exporter": "python",
   "pygments_lexer": "ipython3",
   "version": "3.9.15 (main, Nov 24 2022, 14:39:17) [MSC v.1916 64 bit (AMD64)]"
  },
  "orig_nbformat": 4,
  "vscode": {
   "interpreter": {
    "hash": "7ccdf6fa2fe9851812a686c56b7994b1ea39ca8a45af3f74f45e3d9b9ebb2838"
   }
  }
 },
 "nbformat": 4,
 "nbformat_minor": 2
}
