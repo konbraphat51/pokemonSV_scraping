{
 "cells": [
  {
   "cell_type": "code",
   "execution_count": 1,
   "metadata": {},
   "outputs": [],
   "source": [
    "from bs4 import BeautifulSoup\n",
    "from selenium import webdriver\n",
    "import chromedriver_binary"
   ]
  },
  {
   "cell_type": "code",
   "execution_count": 2,
   "metadata": {},
   "outputs": [],
   "source": [
    "driver = webdriver.Chrome()\n",
    "\n",
    "url = \"https://wiki.xn--rckteqa2e.com/wiki/%E3%83%9D%E3%82%B1%E3%83%A2%E3%83%B3%E3%81%AE%E5%A4%96%E5%9B%BD%E8%AA%9E%E5%90%8D%E4%B8%80%E8%A6%A7\"\n",
    "\n",
    "driver.get(url)\n",
    "html = driver.page_source\n",
    "\n",
    "soup = BeautifulSoup(html)"
   ]
  },
  {
   "cell_type": "code",
   "execution_count": 3,
   "metadata": {},
   "outputs": [],
   "source": [
    "jp2en = {}\n",
    "en2jp = {}"
   ]
  },
  {
   "cell_type": "code",
   "execution_count": 4,
   "metadata": {},
   "outputs": [],
   "source": [
    "tables = soup.find_all(\"table\", class_=\"graytable\")\n",
    "\n",
    "for table in tables:\n",
    "    for row in table.find_all(\"tr\")[1:]:\n",
    "        columns = row.find_all(\"td\")\n",
    "\n",
    "        jpName = columns[1].text\n",
    "        enName = columns[2].text\n",
    "\n",
    "        #末尾が改行文字になっているものがある\n",
    "        if jpName[-1] == \"\\n\":\n",
    "            jpName = jpName[:-1]\n",
    "\n",
    "        if enName[-1] == \"\\n\":\n",
    "            enName = enName[:-1]    \n",
    "\n",
    "        jp2en[jpName] = enName\n",
    "        en2jp[enName] = jpName"
   ]
  },
  {
   "cell_type": "code",
   "execution_count": 10,
   "metadata": {},
   "outputs": [],
   "source": [
    "import json"
   ]
  },
  {
   "cell_type": "code",
   "execution_count": 6,
   "metadata": {},
   "outputs": [],
   "source": [
    "#pokemonデータを取得\n",
    "\n",
    "poke_data_path = \"data/pokemon.json\"\n",
    "\n",
    "f = open(\"data/pokemon.json\", \"r\")\n",
    "data = f.read()\n",
    "f.close()\n",
    "\n",
    "pokemons = json.loads(data)"
   ]
  },
  {
   "attachments": {},
   "cell_type": "markdown",
   "metadata": {},
   "source": [
    "wikiの変換表と名前表記が異なるものを検知し、手動入力で修正"
   ]
  },
  {
   "cell_type": "code",
   "execution_count": 7,
   "metadata": {},
   "outputs": [
    {
     "name": "stdout",
     "output_type": "stream",
     "text": [
      "ガラルニャースの英語表記：\n",
      "ガラルニャースの英語表記：\n",
      "パルデアケンタロスの英語表記：\n",
      "パルデアケンタロスの英語表記：\n",
      "パルデアケンタロスの英語表記：\n",
      "パルデアケンタロス(みず)の英語表記：\n",
      "パルデアケンタロス(みず)の英語表記：\n",
      "パルデアケンタロス(ほのお)の英語表記：\n",
      "パルデアケンタロス(ほのお)の英語表記：\n",
      "パルデアウパーの英語表記：\n",
      "パルデアウパーの英語表記：\n",
      "ヒートロトムの英語表記：\n",
      "ヒートロトムの英語表記：\n",
      "ウォッシュロトムの英語表記：\n",
      "ウォッシュロトムの英語表記：\n",
      "フロストロトムの英語表記：\n",
      "フロストロトムの英語表記：\n",
      "スピンロトムの英語表記：\n",
      "スピンロトムの英語表記：\n",
      "カットロトムの英語表記：\n",
      "カットロトムの英語表記：\n",
      "ルガルガン(まひる)の英語表記：\n",
      "ルガルガン(まひる)の英語表記：\n",
      "ルガルガン(まよなか)の英語表記：\n",
      "ルガルガン(まよなか)の英語表記：\n",
      "ルガルガン(たそがれ)の英語表記：\n",
      "ルガルガン(たそがれ)の英語表記：\n",
      "イエッサン(オス)の英語表記：\n",
      "イエッサン(オス)の英語表記：\n",
      "イエッサン(メス)の英語表記：\n",
      "イエッサン(メス)の英語表記：\n"
     ]
    }
   ],
   "source": [
    "for name in pokemons:\n",
    "    if name in jp2en:\n",
    "        #修正不要\n",
    "        continue\n",
    "\n",
    "    #検索ページを表示\n",
    "    driver.get(\"https://www.google.com/search?q=ポケモン+英語+%s\"%(name))\n",
    "\n",
    "    #jp2enに名前なし\n",
    "    #手動修正が必要\n",
    "    while(True):\n",
    "        print(name+\"の英語表記：\")\n",
    "        enName = input()\n",
    "\n",
    "        #入力があるまで繰り返し\n",
    "        #Jupyterのバグでprintが表示されない場合があるので、\n",
    "        #その場合はEnter押してもう一回printできるようにするため\n",
    "        if enName != \"\":\n",
    "            break\n",
    "            \n",
    "    #変換辞書に追加\n",
    "    jp2en[name] = enName\n",
    "    en2jp[enName] = name"
   ]
  },
  {
   "attachments": {},
   "cell_type": "markdown",
   "metadata": {},
   "source": [
    "## 保存"
   ]
  },
  {
   "attachments": {},
   "cell_type": "markdown",
   "metadata": {},
   "source": [
    "下記の文字はillegal multibyte sequenceとなるので、変換"
   ]
  },
  {
   "cell_type": "code",
   "execution_count": 21,
   "metadata": {},
   "outputs": [],
   "source": [
    "#辞書のキーを変更する関数\n",
    "def change_key(dict, old_key, new_key):\n",
    "    dict[new_key] = dict.pop(old_key, None)\n",
    "\n",
    "#jp2enとjp2enをまとめて変更\n",
    "def edit(old_en, new_en):\n",
    "    change_key(en2jp, old_en, new_en)\n",
    "    jp2en[en2jp[new_en]] = new_en\n",
    "\n",
    "old_en2jp = en2jp.copy()\n",
    "for en in old_en2jp:\n",
    "    if \"é\" in en:\n",
    "        edit(en, en.replace(\"é\", \"e\"))\n",
    "    if \"ó\" in en:\n",
    "        edit(en, en.replace(\"ó\", \"o\"))"
   ]
  },
  {
   "cell_type": "code",
   "execution_count": 22,
   "metadata": {},
   "outputs": [],
   "source": [
    "tf = open(\"data/pokemon-jp2en.json\", \"w\", encoding=\"ansi\")\n",
    "json.dump(jp2en, tf, ensure_ascii=False)\n",
    "tf.close()\n",
    "\n",
    "tf = open(\"data/pokemon-en2jp.json\", \"w\", encoding=\"ansi\")\n",
    "json.dump(en2jp, tf, ensure_ascii=False)\n",
    "tf.close()"
   ]
  }
 ],
 "metadata": {
  "kernelspec": {
   "display_name": "base",
   "language": "python",
   "name": "python3"
  },
  "language_info": {
   "codemirror_mode": {
    "name": "ipython",
    "version": 3
   },
   "file_extension": ".py",
   "mimetype": "text/x-python",
   "name": "python",
   "nbconvert_exporter": "python",
   "pygments_lexer": "ipython3",
   "version": "3.9.15 (main, Nov 24 2022, 14:39:17) [MSC v.1916 64 bit (AMD64)]"
  },
  "orig_nbformat": 4,
  "vscode": {
   "interpreter": {
    "hash": "7ccdf6fa2fe9851812a686c56b7994b1ea39ca8a45af3f74f45e3d9b9ebb2838"
   }
  }
 },
 "nbformat": 4,
 "nbformat_minor": 2
}
