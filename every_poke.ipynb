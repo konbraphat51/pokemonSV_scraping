{
 "cells": [
  {
   "cell_type": "code",
   "execution_count": null,
   "metadata": {},
   "outputs": [],
   "source": [
    "from bs4 import BeautifulSoup\n",
    "from selenium import webdriver\n",
    "import chromedriver_binary\n",
    "import re"
   ]
  },
  {
   "cell_type": "code",
   "execution_count": null,
   "metadata": {},
   "outputs": [],
   "source": [
    "driver = webdriver.Chrome()"
   ]
  },
  {
   "cell_type": "code",
   "execution_count": null,
   "metadata": {},
   "outputs": [],
   "source": [
    "#主キー：日本語名\n",
    "#入れ子の辞書：\n",
    "    #H\n",
    "    #A\n",
    "    #B\n",
    "    #C\n",
    "    #D\n",
    "    #S\n",
    "    #imageLink\n",
    "    #type\n",
    "    #rememberedMoves\n",
    "    #characteristic\n",
    "pokemon = {}"
   ]
  },
  {
   "attachments": {},
   "cell_type": "markdown",
   "metadata": {},
   "source": [
    "## GameWithからのスクレイピング"
   ]
  },
  {
   "cell_type": "code",
   "execution_count": null,
   "metadata": {},
   "outputs": [],
   "source": [
    "\n",
    "url = \"https://gamewith.jp/pokemon-sv/article/show/375426\"\n",
    "\n",
    "driver.get(url)\n",
    "html = driver.page_source"
   ]
  },
  {
   "cell_type": "code",
   "execution_count": null,
   "metadata": {},
   "outputs": [],
   "source": [
    "main_soup = BeautifulSoup(html)"
   ]
  },
  {
   "cell_type": "code",
   "execution_count": null,
   "metadata": {},
   "outputs": [],
   "source": [
    "pokemon_list = main_soup.find_all(\"li\", class_=\"w-pksv-pokemon-list-element\")\n",
    "\n",
    "for element in pokemon_list:\n",
    "    #各ページにアクセス\n",
    "    individual_url = element.find(\"a\", class_=\"_name\").get(\"href\")\n",
    "    driver.get(individual_url)\n",
    "\n",
    "    html = driver.page_source\n",
    "\n",
    "    soup = BeautifulSoup(html)\n",
    "\n",
    "    #日本語名\n",
    "    title = soup.find(\"h3\").text\n",
    "    try:\n",
    "        pattern = '(.*)の色違いと基本情報'\n",
    "        name = re.match(pattern, title).group(1)\n",
    "    except:\n",
    "        pattern = '(.*)の基本情報'\n",
    "        name = re.match(pattern, title).group(1)\n",
    "    \n",
    "    pokemon[name] = {}\n",
    "\n",
    "    #種族値\n",
    "    table = soup.find(\"div\", class_=\"pokesv_bar_table\")\n",
    "    bars = table.find_all(\"span\", class_=\"bar1\")\n",
    "\n",
    "    pokemon[name][\"H\"] = bars[0].text\n",
    "    pokemon[name][\"A\"] = bars[1].text\n",
    "    pokemon[name][\"B\"] = bars[2].text\n",
    "    pokemon[name][\"C\"] = bars[3].text\n",
    "    pokemon[name][\"D\"] = bars[4].text\n",
    "    pokemon[name][\"S\"] = bars[5].text\n",
    "\n",
    "    #画像リンク\n",
    "    image_div = soup.find(\"div\", class_=\"js-pokemon-deff-color-switch\")\n",
    "    image_url = image_div.find(\"img\").get(\"src\")\n",
    "    pokemon[name][\"imageLink\"] = image_url\n",
    "\n",
    "    #タイプ\n",
    "    type_span = soup.find(\"span\", class_ = \"inline\")\n",
    "    imgs = type_span.find_all(\"img\")\n",
    "    types = set()\n",
    "    for img in imgs:\n",
    "        types.add(img.get(\"alt\"))\n",
    "    pokemon[name][\"types\"] = list(types)\n",
    "\n",
    "    #覚える技\n",
    "    pokemon[name][\"rememberedMoves\"] = []\n",
    "    skill_list = soup.find(\"ol\", id=\"SkillList\")\n",
    "    moves = skill_list.find_all(\"li\", class_=\"w-pksv-skill-list-element\")\n",
    "    for move in moves:\n",
    "        move_name = move.find(\"div\", class_=\"_name\").find(\"a\").text\n",
    "        pokemon[name][\"rememberedMoves\"].append(move_name)\n",
    "\n",
    "    #特性\n",
    "    pokemon[name][\"characteristics\"] = []\n",
    "\n",
    "    toku_list = soup.find(\"ol\", class_=\"pksv_toku_list\").find_all(\"li\")\n",
    "\n",
    "    for toku in toku_list:\n",
    "        charac_name = toku.find(\"div\", class_=\"_name\").text\n",
    "        pokemon[name][\"characteristics\"].append(charac_name)\n"
   ]
  },
  {
   "attachments": {},
   "cell_type": "markdown",
   "metadata": {},
   "source": [
    "##　保存"
   ]
  },
  {
   "cell_type": "code",
   "execution_count": null,
   "metadata": {},
   "outputs": [],
   "source": [
    "import json\n",
    "\n",
    "tf = open(\"pokemon.json\", \"w\")\n",
    "json.dump(pokemon, tf, ensure_ascii=False)\n",
    "tf.close()"
   ]
  }
 ],
 "metadata": {
  "kernelspec": {
   "display_name": "base",
   "language": "python",
   "name": "python3"
  },
  "language_info": {
   "codemirror_mode": {
    "name": "ipython",
    "version": 3
   },
   "file_extension": ".py",
   "mimetype": "text/x-python",
   "name": "python",
   "nbconvert_exporter": "python",
   "pygments_lexer": "ipython3",
   "version": "3.9.13 (main, Aug 25 2022, 23:51:50) [MSC v.1916 64 bit (AMD64)]"
  },
  "orig_nbformat": 4,
  "vscode": {
   "interpreter": {
    "hash": "7ccdf6fa2fe9851812a686c56b7994b1ea39ca8a45af3f74f45e3d9b9ebb2838"
   }
  }
 },
 "nbformat": 4,
 "nbformat_minor": 2
}
