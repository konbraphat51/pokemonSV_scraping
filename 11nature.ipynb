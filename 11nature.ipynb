{
 "cells": [
  {
   "cell_type": "code",
   "execution_count": 1,
   "metadata": {},
   "outputs": [],
   "source": [
    "from bs4 import BeautifulSoup\n",
    "from selenium import webdriver\n",
    "import chromedriver_binary\n",
    "import re"
   ]
  },
  {
   "cell_type": "code",
   "execution_count": 2,
   "metadata": {},
   "outputs": [],
   "source": [
    "chrome_options = webdriver.ChromeOptions()\n",
    "chrome_options.add_argument(\"--no-sandbox\")\n",
    "chrome_options.add_argument(\"--headless\")\n",
    "chrome_options.add_argument(\"--disable-gpu\")\n",
    "driver = webdriver.Chrome(options=chrome_options)\n",
    "\n",
    "#driver = webdriver.Chrome()"
   ]
  },
  {
   "cell_type": "code",
   "execution_count": 3,
   "metadata": {},
   "outputs": [],
   "source": [
    "\n",
    "url = \"https://pokebook.jp/multilingual/nature.html\"\n",
    "\n",
    "driver.get(url)\n",
    "html = driver.page_source\n",
    "\n",
    "main_soup = BeautifulSoup(html)"
   ]
  },
  {
   "cell_type": "code",
   "execution_count": 7,
   "metadata": {},
   "outputs": [],
   "source": [
    "tbody = main_soup.find(\"tbody\")\n",
    "\n",
    "rows = tbody.find_all(\"tr\")\n",
    "\n",
    "dict = {}\n",
    "\n",
    "for row in rows:\n",
    "    column = row.find_all(\"td\")\n",
    "    jpName = column[0].text\n",
    "    enName = column[1].text\n",
    "    \n",
    "    dict[enName] = {}\n",
    "    dict[enName][\"JpName\"] = jpName\n",
    "    dict[enName][\"EnName\"] = enName"
   ]
  },
  {
   "cell_type": "code",
   "execution_count": 13,
   "metadata": {},
   "outputs": [
    {
     "name": "stdout",
     "output_type": "stream",
     "text": [
      "いじっぱり\n",
      "Up\n",
      "Down\n",
      "うっかりや\n",
      "Up\n",
      "Down\n",
      "おくびょう\n",
      "Up\n",
      "Down\n",
      "おだやか\n",
      "Up\n",
      "Down\n",
      "おっとり\n",
      "Up\n",
      "Up\n",
      "Down\n",
      "おとなしい\n",
      "Up\n",
      "Down\n",
      "Down\n",
      "がんばりや\n",
      "Up\n",
      "Down\n",
      "きまぐれ\n",
      "Up\n",
      "Down\n",
      "さみしがり\n",
      "Up\n",
      "Down\n",
      "しんちょう\n",
      "Up\n",
      "Down\n",
      "すなお\n",
      "Up\n",
      "Down\n",
      "ずぶとい\n",
      "Up\n",
      "Down\n",
      "せっかち\n",
      "Up\n",
      "Down\n",
      "てれや\n",
      "Up\n",
      "Up\n",
      "Down\n",
      "なまいき\n",
      "Up\n",
      "Down\n",
      "のうてんき\n",
      "Up\n",
      "Down\n",
      "のんき\n",
      "Up\n",
      "Down\n",
      "ひかえめ\n",
      "Up\n",
      "Down\n",
      "まじめ\n",
      "Up\n",
      "Down\n",
      "むじゃき\n",
      "Up\n",
      "Down\n",
      "やんちゃ\n",
      "Up\n",
      "Down\n",
      "ゆうかん\n",
      "Up\n",
      "Down\n",
      "ようき\n",
      "Up\n",
      "Down\n",
      "れいせい\n",
      "Up\n",
      "Up\n",
      "Down\n",
      "わんぱく\n",
      "Up\n",
      "Down\n"
     ]
    }
   ],
   "source": [
    "for key in dict:\n",
    "    print(dict[key][\"JpName\"])\n",
    "    while True:\n",
    "        print(\"Up\")\n",
    "        up = input()\n",
    "\n",
    "        if up != \"\":\n",
    "            break\n",
    "    \n",
    "    while True:\n",
    "        print(\"Down\")\n",
    "        down = input()\n",
    "\n",
    "        if down != \"\":\n",
    "            break\n",
    "\n",
    "    dict[key][\"Up\"] = up\n",
    "    dict[key][\"Down\"] = down"
   ]
  },
  {
   "cell_type": "code",
   "execution_count": 14,
   "metadata": {},
   "outputs": [],
   "source": [
    "import json\n",
    "\n",
    "tf = open(\"data/nature.json\", \"w\")\n",
    "json.dump(dict, tf, ensure_ascii=False)\n",
    "tf.close()"
   ]
  }
 ],
 "metadata": {
  "kernelspec": {
   "display_name": "base",
   "language": "python",
   "name": "python3"
  },
  "language_info": {
   "codemirror_mode": {
    "name": "ipython",
    "version": 3
   },
   "file_extension": ".py",
   "mimetype": "text/x-python",
   "name": "python",
   "nbconvert_exporter": "python",
   "pygments_lexer": "ipython3",
   "version": "3.9.15"
  },
  "orig_nbformat": 4,
  "vscode": {
   "interpreter": {
    "hash": "7ccdf6fa2fe9851812a686c56b7994b1ea39ca8a45af3f74f45e3d9b9ebb2838"
   }
  }
 },
 "nbformat": 4,
 "nbformat_minor": 2
}
