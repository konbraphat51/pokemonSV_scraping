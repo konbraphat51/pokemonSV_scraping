{
 "cells": [
  {
   "attachments": {},
   "cell_type": "markdown",
   "metadata": {},
   "source": [
    "## 変換表を取得"
   ]
  },
  {
   "cell_type": "code",
   "execution_count": 8,
   "metadata": {},
   "outputs": [],
   "source": [
    "from bs4 import BeautifulSoup\n",
    "from selenium import webdriver\n",
    "import chromedriver_binary"
   ]
  },
  {
   "cell_type": "code",
   "execution_count": 9,
   "metadata": {},
   "outputs": [],
   "source": [
    "driver = webdriver.Chrome()\n",
    "\n",
    "url = \"https://wiki.xn--rckteqa2e.com/wiki/%E3%82%8F%E3%81%96%E3%81%AE%E5%A4%96%E5%9B%BD%E8%AA%9E%E5%90%8D%E4%B8%80%E8%A6%A7\"\n",
    "\n",
    "driver.get(url)\n",
    "html = driver.page_source\n",
    "\n",
    "soup = BeautifulSoup(html)"
   ]
  },
  {
   "cell_type": "code",
   "execution_count": 10,
   "metadata": {},
   "outputs": [],
   "source": [
    "jp2en = {}\n",
    "en2jp = {}"
   ]
  },
  {
   "cell_type": "code",
   "execution_count": 11,
   "metadata": {},
   "outputs": [],
   "source": [
    "tables = soup.find_all(\"table\", class_=\"bluetable\")\n",
    "\n",
    "for table in tables:\n",
    "    for row in table.find_all(\"tr\")[1:]:\n",
    "        columns = row.find_all(\"td\")\n",
    "\n",
    "        jpName = columns[0].text\n",
    "        enName = columns[1].text\n",
    "\n",
    "        #末尾が改行文字になっているものがある\n",
    "        if jpName[-1] == \"\\n\":\n",
    "            jpName = jpName[:-1]\n",
    "\n",
    "        if enName[-1] == \"\\n\":\n",
    "            enName = enName[:-1]    \n",
    "\n",
    "        jp2en[jpName] = enName\n",
    "        en2jp[enName] = jpName"
   ]
  },
  {
   "attachments": {},
   "cell_type": "markdown",
   "metadata": {},
   "source": [
    "## pokemonデータから変換データに漏れがないか確認\n",
    "あったら、手動で修正"
   ]
  },
  {
   "cell_type": "code",
   "execution_count": 12,
   "metadata": {},
   "outputs": [],
   "source": [
    "import json\n",
    "\n",
    "#pokemonデータを取得\n",
    "\n",
    "poke_data_path = \"data/pokemon.json\"\n",
    "\n",
    "f = open(\"data/pokemon.json\", \"r\")\n",
    "data = f.read()\n",
    "f.close()\n",
    "\n",
    "pokemons = json.loads(data)"
   ]
  },
  {
   "cell_type": "code",
   "execution_count": 13,
   "metadata": {},
   "outputs": [
    {
     "name": "stdout",
     "output_type": "stream",
     "text": [
      "テラバーストの英語表記：\n",
      "くさわけの英語表記：\n",
      "ひやみずの英語表記：\n",
      "ひやみずの英語表記：\n",
      "ゆきげしきの英語表記：\n",
      "ゆきげしきの英語表記：\n",
      "アイススピナーの英語表記：\n",
      "とびつくの英語表記：\n",
      "ふんどのこぶしの英語表記：\n",
      "レイジングブルの英語表記：\n",
      "レイジングブルの英語表記：\n",
      "さむいギャグの英語表記：\n",
      "ツインビームの英語表記：\n",
      "ツインビームの英語表記：\n",
      "ハイパードリルの英語表記：\n",
      "ほうふくの英語表記：\n",
      "かかとおとしの英語表記：\n",
      "アクアカッターの英語表記：\n",
      "トリックフラワーの英語表記：\n",
      "フレアソングの英語表記：\n",
      "アクアステップの英語表記：\n",
      "スレッドトラップの英語表記：\n",
      "さいきのいのりの英語表記：\n",
      "おはかまいりの英語表記：\n",
      "ルミナコリジョンの英語表記：\n",
      "トリプルダイブの英語表記：\n",
      "いっちょうあがりの英語表記：\n",
      "みをけずるの英語表記：\n",
      "ジェットパンチの英語表記：\n",
      "ハバネロエキスの英語表記：\n",
      "ホイールスピンの英語表記：\n",
      "しっぽきりの英語表記：\n",
      "ネズミざんの英語表記：\n",
      "ネズミざんの英語表記：\n",
      "おかたづけの英語表記：\n",
      "きょけんとつげきの英語表記：\n",
      "きょけんとつげきの英語表記：\n",
      "でんこうそうげきの英語表記：\n",
      "しおづけの英語表記：\n",
      "キラースピンの英語表記：\n",
      "うつしえの英語表記：\n",
      "ゴールドラッシュの英語表記：\n",
      "ゴールドラッシュの英語表記：\n",
      "カタストロフィの英語表記：\n",
      "アクセルブレイクの英語表記：\n",
      "イナズマドライブの英語表記：\n",
      "デカハンマーの英語表記：\n",
      "アーマーキャノンの英語表記：\n",
      "むねんのつるぎの英語表記：\n",
      "むねんのつるぎの英語表記：\n",
      "ドゲザンの英語表記：\n"
     ]
    }
   ],
   "source": [
    "for pokemonName in pokemons:\n",
    "    for name in pokemons[pokemonName][\"rememberedMoves\"]:\n",
    "        if name in jp2en:\n",
    "            #修正不要\n",
    "            continue\n",
    "\n",
    "        #検索ページを表示\n",
    "        driver.get(\"https://www.google.com/search?q=ポケモン+英語+%s\"%(name))\n",
    "\n",
    "        #jp2enに名前なし\n",
    "        #手動修正が必要\n",
    "        while(True):\n",
    "            print(name+\"の英語表記：\")\n",
    "            enName = input()\n",
    "\n",
    "            #入力があるまで繰り返し\n",
    "            #Jupyterのバグでprintが表示されない場合があるので、\n",
    "            #その場合はEnter押してもう一回printできるようにするため\n",
    "            if enName != \"\":\n",
    "                break\n",
    "                \n",
    "        #変換辞書に追加\n",
    "        jp2en[name] = enName\n",
    "        en2jp[enName] = name"
   ]
  },
  {
   "attachments": {},
   "cell_type": "markdown",
   "metadata": {},
   "source": [
    "## 保存"
   ]
  },
  {
   "cell_type": "code",
   "execution_count": 14,
   "metadata": {},
   "outputs": [],
   "source": [
    "import json\n",
    "\n",
    "tf = open(\"data/moves-jp2en.json\", \"w\", encoding=\"ansi\")\n",
    "json.dump(jp2en, tf, ensure_ascii=False)\n",
    "tf.close()\n",
    "\n",
    "tf = open(\"data/moves-en2jp.json\", \"w\", encoding=\"ansi\")\n",
    "json.dump(en2jp, tf, ensure_ascii=False)\n",
    "tf.close()"
   ]
  }
 ],
 "metadata": {
  "kernelspec": {
   "display_name": "base",
   "language": "python",
   "name": "python3"
  },
  "language_info": {
   "codemirror_mode": {
    "name": "ipython",
    "version": 3
   },
   "file_extension": ".py",
   "mimetype": "text/x-python",
   "name": "python",
   "nbconvert_exporter": "python",
   "pygments_lexer": "ipython3",
   "version": "3.9.15 (main, Nov 24 2022, 14:39:17) [MSC v.1916 64 bit (AMD64)]"
  },
  "orig_nbformat": 4,
  "vscode": {
   "interpreter": {
    "hash": "7ccdf6fa2fe9851812a686c56b7994b1ea39ca8a45af3f74f45e3d9b9ebb2838"
   }
  }
 },
 "nbformat": 4,
 "nbformat_minor": 2
}
