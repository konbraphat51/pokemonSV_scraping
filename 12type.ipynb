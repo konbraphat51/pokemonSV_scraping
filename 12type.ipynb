{
 "cells": [
  {
   "cell_type": "code",
   "execution_count": null,
   "metadata": {},
   "outputs": [],
   "source": [
    "types = {\n",
    "    0:{\n",
    "        \"JpName\":\"ノーマル\",\n",
    "        \"EnName\":\"Normal\"\n",
    "    },\n",
    "    1:{\n",
    "        \"JpName\":\"ほのお\",\n",
    "        \"EnName\":\"Fire\"\n",
    "    },\n",
    "    2:{\n",
    "        \"JpName\":\"みず\",\n",
    "        \"EnName\":\"Water\"\n",
    "    },\n",
    "    3:{\n",
    "        \"JpName\":\"でんき\",\n",
    "        \"EnName\":\"Electric\"\n",
    "    },\n",
    "    4:{\n",
    "        \"JpName\":\"くさ\",\n",
    "        \"EnName\":\"Glass\"\n",
    "    },\n",
    "    5:{\n",
    "        \"JpName\":\"こおり\",\n",
    "        \"EnName\":\"Ice\"\n",
    "    },\n",
    "    6:{\n",
    "        \"JpName\":\"かくとう\",\n",
    "        \"EnName\":\"Fighting\"\n",
    "    },\n",
    "    7:{\n",
    "        \"JpName\":\"どく\",\n",
    "        \"EnName\":\"Poison\"\n",
    "    },\n",
    "    8:{\n",
    "        \"JpName\":\"じめん\",\n",
    "        \"EnName\":\"Ground\"\n",
    "    },\n",
    "    9:{\n",
    "        \"JpName\":\"ひこう\",\n",
    "        \"EnName\":\"Flying\"\n",
    "    },\n",
    "    10:{\n",
    "        \"JpName\":\"エスパー\",\n",
    "        \"EnName\":\"Psychic\"\n",
    "    },\n",
    "    11:{\n",
    "        \"JpName\":\"むし\",\n",
    "        \"EnName\":\"Bug\"\n",
    "    },\n",
    "    12:{\n",
    "        \"JpName\":\"いわ\",\n",
    "        \"EnName\":\"Rock\"\n",
    "    },\n",
    "    13:{\n",
    "        \"JpName\":\"ゴースト\",\n",
    "        \"EnName\":\"Ghost\"\n",
    "    },\n",
    "    14:{\n",
    "        \"JpName\":\"ドラゴン\",\n",
    "        \"EnName\":\"Dragon\"\n",
    "    },\n",
    "    15:{\n",
    "        \"JpName\":\"あく\",\n",
    "        \"EnName\":\"Dark\"\n",
    "    },\n",
    "    16:{\n",
    "        \"JpName\":\"はがね\",\n",
    "        \"EnName\":\"Steel\"\n",
    "    },\n",
    "    17:{\n",
    "        \"JpName\":\"フェアリー\",\n",
    "        \"EnName\":\"Fairy\"\n",
    "    }\n",
    "}"
   ]
  },
  {
   "cell_type": "code",
   "execution_count": null,
   "metadata": {},
   "outputs": [],
   "source": [
    "import json\n",
    "\n",
    "f = open(\"translation/type.json\", \"w\", encoding=\"utf-8\")\n",
    "json.dump(types, f, ensure_ascii=False)\n",
    "f.close()"
   ]
  }
 ],
 "metadata": {
  "kernelspec": {
   "display_name": "Python 3",
   "language": "python",
   "name": "python3"
  },
  "language_info": {
   "name": "python",
   "version": "3.11.0 (main, Oct 24 2022, 18:26:48) [MSC v.1933 64 bit (AMD64)]"
  },
  "orig_nbformat": 4,
  "vscode": {
   "interpreter": {
    "hash": "f18876ba008b8f03c8db473942efc120a13a06fe3a8b9090651dfef4dd2a9267"
   }
  }
 },
 "nbformat": 4,
 "nbformat_minor": 2
}
